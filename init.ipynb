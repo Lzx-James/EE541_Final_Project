{
 "cells": [
  {
   "cell_type": "code",
   "execution_count": 2,
   "id": "b85a0803",
   "metadata": {},
   "outputs": [],
   "source": [
    "import os\n",
    "import shutil\n",
    "from kaggle.api.kaggle_api_extended import KaggleApi\n",
    "\n",
    "kaggle_json_path = 'D:\\PythonStore\\FInalProject\\kaggle.json'\n",
    "\n",
    "target_dir = os.path.expanduser(r'~\\.kaggle')\n",
    "os.makedirs(target_dir, exist_ok=True)\n",
    "shutil.copy(kaggle_json_path, os.path.join(target_dir, 'kaggle.json'))\n",
    "\n",
    "api = KaggleApi()\n",
    "api.authenticate()\n"
   ]
  },
  {
   "cell_type": "code",
   "execution_count": 3,
   "id": "0e633786",
   "metadata": {},
   "outputs": [
    {
     "name": "stdout",
     "output_type": "stream",
     "text": [
      "Dataset URL: https://www.kaggle.com/datasets/grassknoted/asl-alphabet\n"
     ]
    }
   ],
   "source": [
    "dataset_name = 'grassknoted/asl-alphabet'\n",
    "download_dir = 'asl_dataset'\n",
    "\n",
    "api.dataset_download_files(dataset_name, path=download_dir, unzip=True)"
   ]
  },
  {
   "cell_type": "code",
   "execution_count": null,
   "id": "7b221d63",
   "metadata": {},
   "outputs": [],
   "source": [
    "dataset_name = 'danrasband/asl-alphabet-test'\n",
    "download_dir = 'archive'\n",
    "\n",
    "api.dataset_download_files(dataset_name, path=download_dir, unzip=True)"
   ]
  },
  {
   "cell_type": "code",
   "execution_count": null,
   "id": "171f4fa6",
   "metadata": {},
   "outputs": [],
   "source": [
    "# === Delete the redundant folder: asl-alphabet-test ===\n",
    "# The image content in the asl-alphabet-test folder in the dataset is exactly the same as the A-Z, space, del and other classification folders in the archive.\n",
    "# In order to avoid data redundancy, save storage space, and prevent repeated reading of the same image during data processing, we delete it.\n",
    "redundant_path = os.path.join(download_dir, 'asl-alphabet-test')\n",
    "if os.path.exists(redundant_path):\n",
    "    shutil.rmtree(redundant_path)"
   ]
  }
 ],
 "metadata": {
  "kernelspec": {
   "display_name": "Python [conda env:pytorch] *",
   "language": "python",
   "name": "conda-env-pytorch-py"
  },
  "language_info": {
   "codemirror_mode": {
    "name": "ipython",
    "version": 3
   },
   "file_extension": ".py",
   "mimetype": "text/x-python",
   "name": "python",
   "nbconvert_exporter": "python",
   "pygments_lexer": "ipython3",
   "version": "3.8.20"
  }
 },
 "nbformat": 4,
 "nbformat_minor": 5
}
